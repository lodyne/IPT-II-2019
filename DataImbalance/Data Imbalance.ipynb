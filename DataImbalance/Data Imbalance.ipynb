{
 "cells": [
  {
   "cell_type": "markdown",
   "metadata": {},
   "source": [
    "## DATA IMBALANCE"
   ]
  },
  {
   "cell_type": "markdown",
   "metadata": {},
   "source": [
    "### What is Data Imbalance"
   ]
  },
  {
   "cell_type": "markdown",
   "metadata": {},
   "source": [
    "Data imbalance in Machine Learning occurs when the distribution of classes in a data is not uniform.\n",
    "i.e. there is unequal distribution of classes within a dataset.\n",
    "It involves two or more classes i.e. number of data points available for different classes is different."
   ]
  },
  {
   "cell_type": "markdown",
   "metadata": {},
   "source": [
    "If the distribution of the labels is not moderately uniform, the dataset is called **imbalance** .\n",
    "When the number of a class(es) significantly outnumber the instances of another class(es), it is \n",
    "simply known as **Data Imbalance** ."
   ]
  },
  {
   "cell_type": "markdown",
   "metadata": {},
   "source": [
    "For two classes, balanced data would mean 50% points of each of the class.Example 60% to 40% is not a\n",
    "problem because it doesn't impact the effectiveness of the algorithm."
   ]
  },
  {
   "cell_type": "markdown",
   "metadata": {},
   "source": [
    "### Why do we balance data"
   ]
  },
  {
   "cell_type": "markdown",
   "metadata": {},
   "source": [
    "* It helps us to create a capable model i.e. a mathematical model that generates predictions by\n",
    "finding patterns in your data. Therefore by balancing data, we are sure of the model created to be\n",
    "able to make the right prediction."
   ]
  },
  {
   "cell_type": "markdown",
   "metadata": {},
   "source": [
    "* We balance data due to the fact that minority class are very rare. Therefore, they must be balanced in order to make the uniform distribution between classes be uniform. "
   ]
  },
  {
   "cell_type": "markdown",
   "metadata": {},
   "source": [
    "* To combat **data biasness**. When the data are imbalanced, they tend to be biased i.e. the data\n",
    "distribution tends to lie more on the other given class compared to the other."
   ]
  },
  {
   "cell_type": "markdown",
   "metadata": {},
   "source": [
    "* Also to make the right prediction when solving machine learning problems. Without the data imbalance, there is high possibility of predicting right the actual outcome of the given data"
   ]
  },
  {
   "cell_type": "markdown",
   "metadata": {},
   "source": [
    "### What data are we balancing "
   ]
  },
  {
   "cell_type": "markdown",
   "metadata": {},
   "source": [
    "Imbalance data/classes is very common problem in machine learning and it is almost very rare to find dataset which are significantly balanced. So in every given dataset there is degree of imbalance, but \n",
    "if the degree of imbalance is very low, it should not have huge impact in on the model performance."
   ]
  },
  {
   "cell_type": "markdown",
   "metadata": {},
   "source": [
    "In real life, there are problems that data imbalance has huge impact and therefore they must find a \n",
    "way to balance the data before creating a model. "
   ]
  },
  {
   "cell_type": "markdown",
   "metadata": {},
   "source": [
    "There are machine learning problems such as fraud detection, medical diagnosis and risk management,\n",
    "the data imbalance is a severe problem. Thats why in these kind of problems that we need data balancing. "
   ]
  },
  {
   "cell_type": "markdown",
   "metadata": {},
   "source": [
    "### Methods used to balance data"
   ]
  },
  {
   "cell_type": "markdown",
   "metadata": {},
   "source": [
    "There are several methods used to balance data.These are as follows:-"
   ]
  },
  {
   "cell_type": "markdown",
   "metadata": {},
   "source": [
    "1. **Oversampling**"
   ]
  },
  {
   "cell_type": "markdown",
   "metadata": {},
   "source": [
    "2. **Undersampling**\n"
   ]
  },
  {
   "cell_type": "markdown",
   "metadata": {},
   "source": [
    "3. **Cost Sensitive Learning Technique**"
   ]
  },
  {
   "cell_type": "markdown",
   "metadata": {},
   "source": [
    "4. **Essemble Learning Technique**"
   ]
  },
  {
   "cell_type": "markdown",
   "metadata": {},
   "source": [
    "5. **Combined Class Methods**"
   ]
  },
  {
   "cell_type": "markdown",
   "metadata": {},
   "source": [
    "#### Using Oversampling Technique to balance data"
   ]
  },
  {
   "cell_type": "code",
   "execution_count": 20,
   "metadata": {},
   "outputs": [],
   "source": [
    "import os\n",
    "import numpy as np\n",
    "import pandas as pd\n",
    "import seaborn as sns\n",
    "import matplotlib.pyplot as plt\n",
    "import warnings\n",
    "warnings.filterwarnings('ignore')\n",
    "%matplotlib inline"
   ]
  },
  {
   "cell_type": "code",
   "execution_count": 21,
   "metadata": {},
   "outputs": [
    {
     "data": {
      "text/html": [
       "<div>\n",
       "<style scoped>\n",
       "    .dataframe tbody tr th:only-of-type {\n",
       "        vertical-align: middle;\n",
       "    }\n",
       "\n",
       "    .dataframe tbody tr th {\n",
       "        vertical-align: top;\n",
       "    }\n",
       "\n",
       "    .dataframe thead th {\n",
       "        text-align: right;\n",
       "    }\n",
       "</style>\n",
       "<table border=\"1\" class=\"dataframe\">\n",
       "  <thead>\n",
       "    <tr style=\"text-align: right;\">\n",
       "      <th></th>\n",
       "      <th>continue_drop</th>\n",
       "      <th>student_id</th>\n",
       "      <th>gender</th>\n",
       "      <th>caste</th>\n",
       "      <th>mathematics_marks</th>\n",
       "      <th>english_marks</th>\n",
       "      <th>science_marks</th>\n",
       "      <th>science_teacher</th>\n",
       "      <th>languages_teacher</th>\n",
       "      <th>guardian</th>\n",
       "      <th>internet</th>\n",
       "      <th>school_id</th>\n",
       "      <th>total_students</th>\n",
       "      <th>total_toilets</th>\n",
       "      <th>establishment_year</th>\n",
       "    </tr>\n",
       "  </thead>\n",
       "  <tbody>\n",
       "    <tr>\n",
       "      <th>0</th>\n",
       "      <td>continue</td>\n",
       "      <td>s01746</td>\n",
       "      <td>M</td>\n",
       "      <td>BC</td>\n",
       "      <td>0.666</td>\n",
       "      <td>0.468</td>\n",
       "      <td>0.666</td>\n",
       "      <td>7</td>\n",
       "      <td>6</td>\n",
       "      <td>other</td>\n",
       "      <td>True</td>\n",
       "      <td>305</td>\n",
       "      <td>354</td>\n",
       "      <td>86.0</td>\n",
       "      <td>1986.0</td>\n",
       "    </tr>\n",
       "    <tr>\n",
       "      <th>1</th>\n",
       "      <td>continue</td>\n",
       "      <td>s16986</td>\n",
       "      <td>M</td>\n",
       "      <td>BC</td>\n",
       "      <td>0.172</td>\n",
       "      <td>0.420</td>\n",
       "      <td>0.172</td>\n",
       "      <td>8</td>\n",
       "      <td>10</td>\n",
       "      <td>mother</td>\n",
       "      <td>False</td>\n",
       "      <td>331</td>\n",
       "      <td>516</td>\n",
       "      <td>15.0</td>\n",
       "      <td>1996.0</td>\n",
       "    </tr>\n",
       "    <tr>\n",
       "      <th>2</th>\n",
       "      <td>continue</td>\n",
       "      <td>s00147</td>\n",
       "      <td>F</td>\n",
       "      <td>BC</td>\n",
       "      <td>0.212</td>\n",
       "      <td>0.601</td>\n",
       "      <td>0.212</td>\n",
       "      <td>1</td>\n",
       "      <td>4</td>\n",
       "      <td>mother</td>\n",
       "      <td>False</td>\n",
       "      <td>311</td>\n",
       "      <td>209</td>\n",
       "      <td>14.0</td>\n",
       "      <td>1976.0</td>\n",
       "    </tr>\n",
       "    <tr>\n",
       "      <th>3</th>\n",
       "      <td>continue</td>\n",
       "      <td>s08104</td>\n",
       "      <td>F</td>\n",
       "      <td>ST</td>\n",
       "      <td>0.434</td>\n",
       "      <td>0.611</td>\n",
       "      <td>0.434</td>\n",
       "      <td>2</td>\n",
       "      <td>5</td>\n",
       "      <td>father</td>\n",
       "      <td>True</td>\n",
       "      <td>364</td>\n",
       "      <td>147</td>\n",
       "      <td>28.0</td>\n",
       "      <td>1911.0</td>\n",
       "    </tr>\n",
       "    <tr>\n",
       "      <th>4</th>\n",
       "      <td>continue</td>\n",
       "      <td>s11132</td>\n",
       "      <td>F</td>\n",
       "      <td>SC</td>\n",
       "      <td>0.283</td>\n",
       "      <td>0.478</td>\n",
       "      <td>0.283</td>\n",
       "      <td>1</td>\n",
       "      <td>10</td>\n",
       "      <td>mother</td>\n",
       "      <td>True</td>\n",
       "      <td>394</td>\n",
       "      <td>122</td>\n",
       "      <td>15.0</td>\n",
       "      <td>1889.0</td>\n",
       "    </tr>\n",
       "  </tbody>\n",
       "</table>\n",
       "</div>"
      ],
      "text/plain": [
       "  continue_drop student_id gender caste  mathematics_marks  english_marks  \\\n",
       "0      continue     s01746      M    BC              0.666          0.468   \n",
       "1      continue     s16986      M    BC              0.172          0.420   \n",
       "2      continue     s00147      F    BC              0.212          0.601   \n",
       "3      continue     s08104      F    ST              0.434          0.611   \n",
       "4      continue     s11132      F    SC              0.283          0.478   \n",
       "\n",
       "   science_marks  science_teacher  languages_teacher guardian  internet  \\\n",
       "0          0.666                7                  6    other      True   \n",
       "1          0.172                8                 10   mother     False   \n",
       "2          0.212                1                  4   mother     False   \n",
       "3          0.434                2                  5   father      True   \n",
       "4          0.283                1                 10   mother      True   \n",
       "\n",
       "   school_id  total_students  total_toilets  establishment_year  \n",
       "0        305             354           86.0              1986.0  \n",
       "1        331             516           15.0              1996.0  \n",
       "2        311             209           14.0              1976.0  \n",
       "3        364             147           28.0              1911.0  \n",
       "4        394             122           15.0              1889.0  "
      ]
     },
     "execution_count": 21,
     "metadata": {},
     "output_type": "execute_result"
    }
   ],
   "source": [
    "data=pd.read_csv('train_data_week_1_challenge.csv')\n",
    "data.head()"
   ]
  },
  {
   "cell_type": "code",
   "execution_count": 22,
   "metadata": {},
   "outputs": [],
   "source": [
    "mapping_dict={\"continue_drop\":{\"drop\":0,\"continue\":1}}"
   ]
  },
  {
   "cell_type": "code",
   "execution_count": 23,
   "metadata": {},
   "outputs": [],
   "source": [
    "data.replace(mapping_dict,inplace=True)"
   ]
  },
  {
   "cell_type": "code",
   "execution_count": 24,
   "metadata": {},
   "outputs": [
    {
     "data": {
      "text/html": [
       "<div>\n",
       "<style scoped>\n",
       "    .dataframe tbody tr th:only-of-type {\n",
       "        vertical-align: middle;\n",
       "    }\n",
       "\n",
       "    .dataframe tbody tr th {\n",
       "        vertical-align: top;\n",
       "    }\n",
       "\n",
       "    .dataframe thead th {\n",
       "        text-align: right;\n",
       "    }\n",
       "</style>\n",
       "<table border=\"1\" class=\"dataframe\">\n",
       "  <thead>\n",
       "    <tr style=\"text-align: right;\">\n",
       "      <th></th>\n",
       "      <th>continue_drop</th>\n",
       "      <th>student_id</th>\n",
       "      <th>gender</th>\n",
       "      <th>caste</th>\n",
       "      <th>mathematics_marks</th>\n",
       "      <th>english_marks</th>\n",
       "      <th>science_marks</th>\n",
       "      <th>science_teacher</th>\n",
       "      <th>languages_teacher</th>\n",
       "      <th>guardian</th>\n",
       "      <th>internet</th>\n",
       "      <th>school_id</th>\n",
       "      <th>total_students</th>\n",
       "      <th>total_toilets</th>\n",
       "      <th>establishment_year</th>\n",
       "    </tr>\n",
       "  </thead>\n",
       "  <tbody>\n",
       "    <tr>\n",
       "      <th>0</th>\n",
       "      <td>1</td>\n",
       "      <td>s01746</td>\n",
       "      <td>M</td>\n",
       "      <td>BC</td>\n",
       "      <td>0.666</td>\n",
       "      <td>0.468</td>\n",
       "      <td>0.666</td>\n",
       "      <td>7</td>\n",
       "      <td>6</td>\n",
       "      <td>other</td>\n",
       "      <td>True</td>\n",
       "      <td>305</td>\n",
       "      <td>354</td>\n",
       "      <td>86.0</td>\n",
       "      <td>1986.0</td>\n",
       "    </tr>\n",
       "    <tr>\n",
       "      <th>1</th>\n",
       "      <td>1</td>\n",
       "      <td>s16986</td>\n",
       "      <td>M</td>\n",
       "      <td>BC</td>\n",
       "      <td>0.172</td>\n",
       "      <td>0.420</td>\n",
       "      <td>0.172</td>\n",
       "      <td>8</td>\n",
       "      <td>10</td>\n",
       "      <td>mother</td>\n",
       "      <td>False</td>\n",
       "      <td>331</td>\n",
       "      <td>516</td>\n",
       "      <td>15.0</td>\n",
       "      <td>1996.0</td>\n",
       "    </tr>\n",
       "    <tr>\n",
       "      <th>2</th>\n",
       "      <td>1</td>\n",
       "      <td>s00147</td>\n",
       "      <td>F</td>\n",
       "      <td>BC</td>\n",
       "      <td>0.212</td>\n",
       "      <td>0.601</td>\n",
       "      <td>0.212</td>\n",
       "      <td>1</td>\n",
       "      <td>4</td>\n",
       "      <td>mother</td>\n",
       "      <td>False</td>\n",
       "      <td>311</td>\n",
       "      <td>209</td>\n",
       "      <td>14.0</td>\n",
       "      <td>1976.0</td>\n",
       "    </tr>\n",
       "    <tr>\n",
       "      <th>3</th>\n",
       "      <td>1</td>\n",
       "      <td>s08104</td>\n",
       "      <td>F</td>\n",
       "      <td>ST</td>\n",
       "      <td>0.434</td>\n",
       "      <td>0.611</td>\n",
       "      <td>0.434</td>\n",
       "      <td>2</td>\n",
       "      <td>5</td>\n",
       "      <td>father</td>\n",
       "      <td>True</td>\n",
       "      <td>364</td>\n",
       "      <td>147</td>\n",
       "      <td>28.0</td>\n",
       "      <td>1911.0</td>\n",
       "    </tr>\n",
       "    <tr>\n",
       "      <th>4</th>\n",
       "      <td>1</td>\n",
       "      <td>s11132</td>\n",
       "      <td>F</td>\n",
       "      <td>SC</td>\n",
       "      <td>0.283</td>\n",
       "      <td>0.478</td>\n",
       "      <td>0.283</td>\n",
       "      <td>1</td>\n",
       "      <td>10</td>\n",
       "      <td>mother</td>\n",
       "      <td>True</td>\n",
       "      <td>394</td>\n",
       "      <td>122</td>\n",
       "      <td>15.0</td>\n",
       "      <td>1889.0</td>\n",
       "    </tr>\n",
       "  </tbody>\n",
       "</table>\n",
       "</div>"
      ],
      "text/plain": [
       "   continue_drop student_id gender caste  mathematics_marks  english_marks  \\\n",
       "0              1     s01746      M    BC              0.666          0.468   \n",
       "1              1     s16986      M    BC              0.172          0.420   \n",
       "2              1     s00147      F    BC              0.212          0.601   \n",
       "3              1     s08104      F    ST              0.434          0.611   \n",
       "4              1     s11132      F    SC              0.283          0.478   \n",
       "\n",
       "   science_marks  science_teacher  languages_teacher guardian  internet  \\\n",
       "0          0.666                7                  6    other      True   \n",
       "1          0.172                8                 10   mother     False   \n",
       "2          0.212                1                  4   mother     False   \n",
       "3          0.434                2                  5   father      True   \n",
       "4          0.283                1                 10   mother      True   \n",
       "\n",
       "   school_id  total_students  total_toilets  establishment_year  \n",
       "0        305             354           86.0              1986.0  \n",
       "1        331             516           15.0              1996.0  \n",
       "2        311             209           14.0              1976.0  \n",
       "3        364             147           28.0              1911.0  \n",
       "4        394             122           15.0              1889.0  "
      ]
     },
     "execution_count": 24,
     "metadata": {},
     "output_type": "execute_result"
    }
   ],
   "source": [
    "data.head()"
   ]
  },
  {
   "cell_type": "code",
   "execution_count": 25,
   "metadata": {},
   "outputs": [
    {
     "data": {
      "text/plain": [
       "1    16384\n",
       "0      806\n",
       "Name: continue_drop, dtype: int64"
      ]
     },
     "execution_count": 25,
     "metadata": {},
     "output_type": "execute_result"
    }
   ],
   "source": [
    "data['continue_drop'].value_counts()"
   ]
  },
  {
   "cell_type": "code",
   "execution_count": 26,
   "metadata": {},
   "outputs": [
    {
     "data": {
      "text/plain": [
       "<matplotlib.axes._subplots.AxesSubplot at 0x247c6dd3550>"
      ]
     },
     "execution_count": 26,
     "metadata": {},
     "output_type": "execute_result"
    },
    {
     "data": {
      "image/png": "[encoded data removed]",
      "text/plain": [
       "<Figure size 432x288 with 1 Axes>"
      ]
     },
     "metadata": {
      "needs_background": "light"
     },
     "output_type": "display_data"
    }
   ],
   "source": [
    "data['continue_drop'].hist()"
   ]
  },
  {
   "cell_type": "code",
   "execution_count": 42,
   "metadata": {},
   "outputs": [],
   "source": [
    "X=data[data.continue_drop==1]\n",
    "y=data[data.continue_drop==0]"
   ]
  },
  {
   "cell_type": "code",
   "execution_count": 48,
   "metadata": {},
   "outputs": [],
   "source": [
    "count_class_0, count_class_1 = data.continue_drop.value_counts()\n",
    "\n",
    "# Divide by class\n",
    "df_class_0 = data[data['continue_drop'] == 0]\n",
    "df_class_1 = data[data['continue_drop'] == 1]"
   ]
  },
  {
   "cell_type": "code",
   "execution_count": 51,
   "metadata": {},
   "outputs": [
    {
     "name": "stdout",
     "output_type": "stream",
     "text": [
      "Random under-sampling:\n",
      "1    16384\n",
      "0      806\n",
      "Name: continue_drop, dtype: int64\n"
     ]
    },
    {
     "data": {
      "image/png": "[encoded data removed]",
      "text/plain": [
       "<Figure size 432x288 with 1 Axes>"
      ]
     },
     "metadata": {
      "needs_background": "light"
     },
     "output_type": "display_data"
    }
   ],
   "source": [
    "df_class_0_under = df_class_0.sample(count_class_1)\n",
    "df_test_under = pd.concat([df_class_0_under, df_class_1], axis=0)\n",
    "\n",
    "print('Random under-sampling:')\n",
    "print(df_test_under.continue_drop.value_counts())\n",
    "\n",
    "df_test_under.continue_drop.value_counts().plot(kind='bar', title='Count (continue_drop)');"
   ]
  },
  {
   "cell_type": "code",
   "execution_count": null,
   "metadata": {},
   "outputs": [],
   "source": []
  }
 ],
 "metadata": {
  "kernelspec": {
   "display_name": "Python 3",
   "language": "python",
   "name": "python3"
  },
  "language_info": {
   "codemirror_mode": {
    "name": "ipython",
    "version": 3
   },
   "file_extension": ".py",
   "mimetype": "text/x-python",
   "name": "python",
   "nbconvert_exporter": "python",
   "pygments_lexer": "ipython3",
   "version": "3.7.3"
  }
 },
 "nbformat": 4,
 "nbformat_minor": 2
}
